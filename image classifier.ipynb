{
 "cells": [
  {
   "cell_type": "code",
   "execution_count": 45,
   "metadata": {},
   "outputs": [],
   "source": [
    "# Tensorflow / Keras\n",
    "import tensorflow as tf\n",
    "from tensorflow import keras \n",
    "from keras.models import Sequential # creating a linear stack of NN\n",
    "from keras import Input # for instantiating a keras tensor\n",
    "from keras.layers import Dense, Conv2D, MaxPool2D, Flatten, Dropout \n",
    "\n",
    "# data manipulation\n",
    "import pandas as pd\n",
    "import numpy as np\n",
    "\n",
    "# sklearn \n",
    "import sklearn \n",
    "from sklearn.model_selection import train_test_split\n",
    "from sklearn.metrics import classification_report\n",
    "from sklearn.preprocessing import OrdinalEncoder\n",
    "\n",
    "# visualisation \n",
    "import cv2 \n",
    "import matplotlib\n",
    "import matplotlib.pyplot as plt\n",
    "\n"
   ]
  },
  {
   "cell_type": "code",
   "execution_count": 46,
   "metadata": {},
   "outputs": [
    {
     "name": "stdout",
     "output_type": "stream",
     "text": [
      "d:\\Coding\n"
     ]
    }
   ],
   "source": [
    "import sys\n",
    "import os\n",
    "\n",
    "# assigning main directory path to a variable\n",
    "main_dir = os.path.dirname(sys.path[0])\n",
    "print(main_dir)"
   ]
  },
  {
   "cell_type": "code",
   "execution_count": 47,
   "metadata": {},
   "outputs": [],
   "source": [
    "# location prefix of images\n",
    "IMG_LOCATION = main_dir + \"\\\\Caltech-101-CNN\\\\data\\\\101_ObjectCategories\\\\\"\n",
    "\n",
    "#categories we are interested in \n",
    "LABELS = set(['dalmatian','hedgehog','llama', 'panda'])\n",
    "\n",
    "# create two lists to contain image paths and image labels\n",
    "ImagePaths = []\n",
    "ListLabels = []\n",
    "for label in LABELS:\n",
    "    for image in list(os.listdir(IMG_LOCATION + label)):\n",
    "        ImagePaths = ImagePaths + [IMG_LOCATION + label + \"/\" + image]\n",
    "        ListLabels = ListLabels + [label]\n",
    "\n",
    "# load images and resizing them\n",
    "data = []\n",
    "for img in ImagePaths:\n",
    "    image = cv2.imread(img)\n",
    "    image = cv2.resize(image, (128,128))\n",
    "    data.append(image)\n",
    "\n",
    "# convert image data to numpy array and standardize values \n",
    "data = np.array(data, dtype = \"float\") / 255"
   ]
  },
  {
   "cell_type": "markdown",
   "metadata": {},
   "source": [
    "The shape of data is 4 dimensional `(237, 128, 128, 3)`\n",
    "- 237 : objects/images\n",
    "- 128 : pixels along x axis\n",
    "- 128 : pixels along y axis\n",
    "- 3 : the colours R, G, B channels\n",
    "\n",
    "That is `Sample, rows, columns, channels`"
   ]
  },
  {
   "cell_type": "code",
   "execution_count": 48,
   "metadata": {},
   "outputs": [
    {
     "data": {
      "text/plain": [
       "(237, 128, 128, 3)"
      ]
     },
     "execution_count": 48,
     "metadata": {},
     "output_type": "execute_result"
    }
   ],
   "source": [
    "data.shape"
   ]
  },
  {
   "cell_type": "markdown",
   "metadata": {},
   "source": [
    "Our target will be one of the four values - \n",
    "- llama\n",
    "- panda\n",
    "- dalmatian\n",
    "- hedgehog\n",
    "so we create a np array and encode it too!"
   ]
  },
  {
   "cell_type": "code",
   "execution_count": 49,
   "metadata": {},
   "outputs": [],
   "source": [
    "# also converting labels list to np array \n",
    "LablesArray = np.array(ListLabels)\n",
    "\n",
    "# Encode labels \n",
    "enc = OrdinalEncoder()\n",
    "y = enc.fit_transform(LablesArray.reshape(-1,1))"
   ]
  },
  {
   "cell_type": "markdown",
   "metadata": {},
   "source": [
    "Now we need to create training and testing samples using sklearn!\n"
   ]
  },
  {
   "cell_type": "code",
   "execution_count": 53,
   "metadata": {},
   "outputs": [
    {
     "name": "stdout",
     "output_type": "stream",
     "text": [
      "Shape of X_train:  (189, 128, 128, 3)\n",
      "Shape of y_train:  (189, 1)\n",
      "Shape of X_test:  (48, 128, 128, 3)\n",
      "Shape of y_test:  (48, 1)\n"
     ]
    }
   ],
   "source": [
    "X_train, X_test, y_train, y_test = train_test_split(data,y, test_size = 0.2, random_state= 42)\n",
    "\n",
    "# Print shapes\n",
    "print(\"Shape of X_train: \", X_train.shape)\n",
    "print(\"Shape of y_train: \", y_train.shape)\n",
    "print(\"Shape of X_test: \", X_test.shape)\n",
    "print(\"Shape of y_test: \", y_test.shape)"
   ]
  }
 ],
 "metadata": {
  "kernelspec": {
   "display_name": "Python 3.8.7 64-bit",
   "language": "python",
   "name": "python3"
  },
  "language_info": {
   "codemirror_mode": {
    "name": "ipython",
    "version": 3
   },
   "file_extension": ".py",
   "mimetype": "text/x-python",
   "name": "python",
   "nbconvert_exporter": "python",
   "pygments_lexer": "ipython3",
   "version": "3.8.7"
  },
  "orig_nbformat": 4,
  "vscode": {
   "interpreter": {
    "hash": "3a53c88f4fdc719dd3265ddb13e8e9d7137a6cb76512705960f4604c66fa0a8c"
   }
  }
 },
 "nbformat": 4,
 "nbformat_minor": 2
}
